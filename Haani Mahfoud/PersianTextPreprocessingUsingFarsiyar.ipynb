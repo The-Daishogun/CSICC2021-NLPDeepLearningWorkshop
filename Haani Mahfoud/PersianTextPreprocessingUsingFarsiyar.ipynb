{
 "cells": [
  {
   "cell_type": "markdown",
   "metadata": {},
   "source": [
    "# پیش پردازش متون فارسی با استفاده از فارسی‌یار"
   ]
  },
  {
   "cell_type": "code",
   "execution_count": null,
   "metadata": {},
   "outputs": [],
   "source": [
    "#https://app.text-mining.ir/CustomerPanel"
   ]
  },
  {
   "cell_type": "code",
   "execution_count": 1,
   "metadata": {},
   "outputs": [],
   "source": [
    "import requests\n",
    "import json\n",
    "\n",
    "def callApi(url, data, tokenKey):\n",
    "    headers = {\n",
    "        'Content-Type': \"application/json\",\n",
    "        'Authorization': \"Bearer \" + tokenKey,\n",
    "        'Cache-Control': \"no-cache\"\n",
    "    }\n",
    "    response = requests.request(\"POST\", url, data=data.encode(\"utf-8\"), headers=headers)\n",
    "    return response.text\n",
    "\n",
    "##################### Get Token by Api Key ##########################\n",
    "\n",
    "\n",
    "baseUrl = \"http://api.text-mining.ir/api/\"\n",
    "url = baseUrl + \"Token/GetToken\"\n",
    "querystring = {\"apikey\":\"51f75c8d-367d-eb11-80ee-98ded002619b\"}\n",
    "response = requests.request(\"GET\", url, params=querystring)\n",
    "data = json.loads(response.text)\n",
    "tokenKey = data['token']\n",
    "#print (tokenKey)"
   ]
  },
  {
   "cell_type": "markdown",
   "metadata": {},
   "source": [
    "# (Normalizer) نرمال ساز متن"
   ]
  },
  {
   "cell_type": "code",
   "execution_count": 2,
   "metadata": {},
   "outputs": [
    {
     "name": "stdout",
     "output_type": "stream",
     "text": [
      "ک- ک- می‌خواهم- ایده‌ی خوب\n"
     ]
    }
   ],
   "source": [
    "baseUrl = \"http://api.text-mining.ir/api/\"\n",
    "url =  baseUrl + \"PreProcessing/NormalizePersianWord\"\n",
    "text = \"ك - ک - می خواهم - ایده ی خوب\"\n",
    "payload = u\"{\\\"text\\\":\\\"\"+text+\"\\\", \\\"refineSeparatedAffix\\\":true}\"\n",
    "print(callApi(url, payload, tokenKey))"
   ]
  },
  {
   "cell_type": "markdown",
   "metadata": {},
   "source": [
    "# (Sentence Splitter and Tokenizer) تقطیع جملات و واژه ها"
   ]
  },
  {
   "cell_type": "code",
   "execution_count": 3,
   "metadata": {},
   "outputs": [
    {
     "name": "stdout",
     "output_type": "stream",
     "text": [
      "[[\"او\",\"یک\",\"دانشجو\",\"است\",\".\"],[\"در\",\"ایران\",\"درس\",\"می‌خواند\"]]\n"
     ]
    }
   ],
   "source": [
    "url =  baseUrl + \"PreProcessing/SentenceSplitterAndTokenize\"\n",
    "payload = u'''{\\\"text\\\": \\\"او یک دانشجو است. در ایران درس میخواند\\\",\n",
    "\n",
    "    \\\"checkSlang\\\": true,\n",
    "\n",
    "    \\\"normalize\\\": true,\n",
    "\n",
    "    \\\"normalizerParams\\\": {\n",
    "\n",
    "        \\\"text\\\": \\\"don't care\\\",\n",
    "\n",
    "        \\\"replaceWildChar\\\": true,\n",
    "\n",
    "        \\\"replaceDigit\\\": true,\n",
    "\n",
    "        \\\"refineSeparatedAffix\\\": true,\n",
    "\n",
    "        \\\"refineQuotationPunc\\\": false\n",
    "\n",
    "    },\n",
    "\n",
    "    \\\"complexSentence\\\": true\n",
    "\n",
    "}'''\n",
    "print(callApi(url, payload, tokenKey))"
   ]
  },
  {
   "cell_type": "markdown",
   "metadata": {},
   "source": [
    "#  (Spell Correction) تصحیح خطای املایی"
   ]
  },
  {
   "cell_type": "code",
   "execution_count": 4,
   "metadata": {},
   "outputs": [
    {
     "name": "stdout",
     "output_type": "stream",
     "text": [
      "آب {نبات,مبرات,مباد} {خیلی,خلیلی,تخیلی} {چوش مزه,خوشمزه} {ست,است}\n"
     ]
    }
   ],
   "source": [
    "url =  baseUrl + \"TextRefinement/SpellCorrector\"\n",
    "payload = u'''{\\\"text\\\": \\\"آب مبات خیلی چوشمزه ست\\\",\n",
    "\n",
    "            \\\"checkSlang\\\": true,\n",
    "\n",
    "            \\\"normalize\\\": true,\n",
    "\n",
    "            \\\"candidateCount\\\": 3}'''\n",
    "print(callApi(url, payload, tokenKey))"
   ]
  },
  {
   "cell_type": "markdown",
   "metadata": {},
   "source": [
    "# تبدیل محاوره به رسمی\n",
    "کلمات محاوره‌ای درون متن به شکل (معادل) رسمی آنها تبدیل می‌شود"
   ]
  },
  {
   "cell_type": "code",
   "execution_count": 5,
   "metadata": {},
   "outputs": [
    {
     "name": "stdout",
     "output_type": "stream",
     "text": [
      "می‌خواهم بگویم\n"
     ]
    }
   ],
   "source": [
    "url =  baseUrl + \"TextRefinement/FormalConverter\"\n",
    "payload = u'''\"میخوام بگم\"'''\n",
    "print(callApi(url, payload, tokenKey))"
   ]
  },
  {
   "cell_type": "markdown",
   "metadata": {},
   "source": [
    "# تعیین برچسب نقش ادات سخن\n",
    "این تابع عملیات برچسب زنی نقش (اسم، ضمیر، صفت، قید، فعل، …) کلمات در جمله را انجام می دهد"
   ]
  },
  {
   "cell_type": "code",
   "execution_count": 6,
   "metadata": {},
   "outputs": [
    {
     "name": "stdout",
     "output_type": "stream",
     "text": [
      "(دانشجویان,N) \n",
      "(در,P) \n",
      "(کلاس,N) \n",
      "(هستند,V) \n",
      "(.,) \n"
     ]
    }
   ],
   "source": [
    "url =  baseUrl + \"PosTagger/GetPos\"\n",
    "payload = u'\"دانشجویان در کلاس هستند\"'\n",
    "result = json.loads(callApi(url, payload, tokenKey))\n",
    "for phrase in result:\n",
    "    print(\"(\"+phrase['word']+\",\"+phrase['tags']['POS']['item1']+\") \")"
   ]
  },
  {
   "cell_type": "markdown",
   "metadata": {},
   "source": [
    "# ریشه‌یابی کلمات یا بن‌واژه‌یاب"
   ]
  },
  {
   "cell_type": "code",
   "execution_count": 7,
   "metadata": {},
   "outputs": [
    {
     "name": "stdout",
     "output_type": "stream",
     "text": [
      "(دریانوردانی:دریانورد) \n",
      "(جزایر:جزیره) \n",
      "(فرشتگان:فرشته) \n",
      "(تنها:تنها) \n",
      "(کتابها:کتاب) \n"
     ]
    }
   ],
   "source": [
    "url =  baseUrl + \"Stemmer/LemmatizeWords2Phrase\"\n",
    "payload = u'[\"دریانوردانی\", \"جزایر\", \"فرشتگان\", \"تنها\", \"کتابها\"]'\n",
    "result = json.loads(callApi(url, payload, tokenKey))\n",
    "for phrase in result:\n",
    "    print(\"(\"+phrase['word']+\":\"+phrase['firstRoot']+\") \")"
   ]
  },
  {
   "cell_type": "markdown",
   "metadata": {},
   "source": [
    "# NER تشخیص موجودیت های نامدار "
   ]
  },
  {
   "cell_type": "code",
   "execution_count": 9,
   "metadata": {},
   "outputs": [
    {
     "name": "stdout",
     "output_type": "stream",
     "text": [
      "(هانی,B-PER) \n",
      "(محفوض,I-PER) \n",
      "(به,O) \n",
      "(تحصیالت,O) \n",
      "(خود,O) \n",
      "(در,O) \n",
      "(دانشگاه,B-LOC) \n",
      "(اصفهان,I-LOC) \n",
      "(در,O) \n",
      "(ایران,B-LOC) \n",
      "(ادامه,O) \n",
      "(داد,O) \n"
     ]
    }
   ],
   "source": [
    "url =  baseUrl + \"NamedEntityRecognition/Detect\"\n",
    "payload = u'\"هانی محفوض به تحصیالت خود در دانشگاه اصفهان در ایران ادامه داد\"'\n",
    "result = json.loads(callApi(url, payload, tokenKey))\n",
    "for phrase in result:\n",
    "    print(\"(\"+phrase['word']+\",\"+phrase['tags']['NER']['item1']+\") \")"
   ]
  },
  {
   "cell_type": "markdown",
   "metadata": {},
   "source": [
    "# استخراج مترادف‌ها\n",
    "این تابع کلمات هم‌معنی (معادل مفهومی) با کلمه ورودی در فرهنگ لغت‌های مختلف را برمی‌گرداند"
   ]
  },
  {
   "cell_type": "code",
   "execution_count": 11,
   "metadata": {},
   "outputs": [
    {
     "name": "stdout",
     "output_type": "stream",
     "text": [
      "[\"دوست\",\"آشنا\",\"تاش\",\"حبیب\",\"حریف\",\"حمیم\",\"خلیل\",\"یار\",\"همدم\",\"معشوق\",\"رفیق\",\"صدوق\",\"صدیق\",\"محب\",\"محبوب\",\"مصاحب\",\"معاشر\",\"ولی\",\"ولی‌\",\"دوستی\",\"ایاغ\",\"عیاق\",\"رفاقت\",\"ایاق\"]\n"
     ]
    }
   ],
   "source": [
    "url =  baseUrl + \"TextSimilarity/ExtractSynonyms\"\n",
    "payload = u\"\\\"دوست\\\"\"\n",
    "print(callApi(url, payload, tokenKey))"
   ]
  },
  {
   "cell_type": "markdown",
   "metadata": {},
   "source": [
    "# شناسایی نوع زبان"
   ]
  },
  {
   "cell_type": "code",
   "execution_count": 12,
   "metadata": {},
   "outputs": [
    {
     "name": "stdout",
     "output_type": "stream",
     "text": [
      "en\n"
     ]
    }
   ],
   "source": [
    "url =  baseUrl + \"LanguageDetection/Predict\"\n",
    "payload = u'\"I go to school\"'\n",
    "print(callApi(url, payload, tokenKey))"
   ]
  }
 ],
 "metadata": {
  "kernelspec": {
   "display_name": "Python 3",
   "language": "python",
   "name": "python3"
  },
  "language_info": {
   "codemirror_mode": {
    "name": "ipython",
    "version": 3
   },
   "file_extension": ".py",
   "mimetype": "text/x-python",
   "name": "python",
   "nbconvert_exporter": "python",
   "pygments_lexer": "ipython3",
   "version": "3.8.5"
  }
 },
 "nbformat": 4,
 "nbformat_minor": 4
}
