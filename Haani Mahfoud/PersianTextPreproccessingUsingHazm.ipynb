{
  "nbformat": 4,
  "nbformat_minor": 0,
  "metadata": {
    "colab": {
      "name": "پیش پردازش متون فارسی با استفاده از کتابخانه هضم.ipynb",
      "provenance": [],
      "toc_visible": true
    },
    "kernelspec": {
      "name": "python3",
      "display_name": "Python 3"
    }
  },
  "cells": [
    {
      "cell_type": "markdown",
      "metadata": {
        "id": "BO7C1PAMALCY"
      },
      "source": [
        "# **پیش پردازش متون فارسی با استفاده از کتابخانه هضم**"
      ]
    },
    {
      "cell_type": "code",
      "metadata": {
        "id": "NYSfRfP85j1g"
      },
      "source": [
        "#https://www.sobhe.ir/hazm/"
      ],
      "execution_count": null,
      "outputs": []
    },
    {
      "cell_type": "code",
      "metadata": {
        "id": "S6kr5BNZ0CsS",
        "colab": {
          "base_uri": "https://localhost:8080/"
        },
        "outputId": "1dd3b601-dd2a-4e3d-c2d0-9bf2d1975fe7"
      },
      "source": [
        "pip install hazm"
      ],
      "execution_count": null,
      "outputs": [
        {
          "output_type": "stream",
          "text": [
            "Collecting hazm\n",
            "\u001b[?25l  Downloading https://files.pythonhosted.org/packages/22/13/5a7074bc11d20dbbb46239349ac3f85f7edc148b4cf68e9b8c2f8263830c/hazm-0.7.0-py3-none-any.whl (316kB)\n",
            "\r\u001b[K     |█                               | 10kB 15.8MB/s eta 0:00:01\r\u001b[K     |██                              | 20kB 22.7MB/s eta 0:00:01\r\u001b[K     |███                             | 30kB 18.5MB/s eta 0:00:01\r\u001b[K     |████▏                           | 40kB 15.3MB/s eta 0:00:01\r\u001b[K     |█████▏                          | 51kB 9.0MB/s eta 0:00:01\r\u001b[K     |██████▏                         | 61kB 7.7MB/s eta 0:00:01\r\u001b[K     |███████▎                        | 71kB 8.7MB/s eta 0:00:01\r\u001b[K     |████████▎                       | 81kB 9.6MB/s eta 0:00:01\r\u001b[K     |█████████▎                      | 92kB 10.3MB/s eta 0:00:01\r\u001b[K     |██████████▍                     | 102kB 8.7MB/s eta 0:00:01\r\u001b[K     |███████████▍                    | 112kB 8.7MB/s eta 0:00:01\r\u001b[K     |████████████▍                   | 122kB 8.7MB/s eta 0:00:01\r\u001b[K     |█████████████▌                  | 133kB 8.7MB/s eta 0:00:01\r\u001b[K     |██████████████▌                 | 143kB 8.7MB/s eta 0:00:01\r\u001b[K     |███████████████▌                | 153kB 8.7MB/s eta 0:00:01\r\u001b[K     |████████████████▋               | 163kB 8.7MB/s eta 0:00:01\r\u001b[K     |█████████████████▋              | 174kB 8.7MB/s eta 0:00:01\r\u001b[K     |██████████████████▋             | 184kB 8.7MB/s eta 0:00:01\r\u001b[K     |███████████████████▋            | 194kB 8.7MB/s eta 0:00:01\r\u001b[K     |████████████████████▊           | 204kB 8.7MB/s eta 0:00:01\r\u001b[K     |█████████████████████▊          | 215kB 8.7MB/s eta 0:00:01\r\u001b[K     |██████████████████████▊         | 225kB 8.7MB/s eta 0:00:01\r\u001b[K     |███████████████████████▉        | 235kB 8.7MB/s eta 0:00:01\r\u001b[K     |████████████████████████▉       | 245kB 8.7MB/s eta 0:00:01\r\u001b[K     |█████████████████████████▉      | 256kB 8.7MB/s eta 0:00:01\r\u001b[K     |███████████████████████████     | 266kB 8.7MB/s eta 0:00:01\r\u001b[K     |████████████████████████████    | 276kB 8.7MB/s eta 0:00:01\r\u001b[K     |█████████████████████████████   | 286kB 8.7MB/s eta 0:00:01\r\u001b[K     |██████████████████████████████  | 296kB 8.7MB/s eta 0:00:01\r\u001b[K     |███████████████████████████████ | 307kB 8.7MB/s eta 0:00:01\r\u001b[K     |████████████████████████████████| 317kB 8.7MB/s \n",
            "\u001b[?25hCollecting nltk==3.3\n",
            "\u001b[?25l  Downloading https://files.pythonhosted.org/packages/50/09/3b1755d528ad9156ee7243d52aa5cd2b809ef053a0f31b53d92853dd653a/nltk-3.3.0.zip (1.4MB)\n",
            "\u001b[K     |████████████████████████████████| 1.4MB 40.9MB/s \n",
            "\u001b[?25hCollecting libwapiti>=0.2.1; platform_system != \"Windows\"\n",
            "\u001b[?25l  Downloading https://files.pythonhosted.org/packages/bc/0f/1c9b49bb49821b5856a64ea6fac8d96a619b9f291d1f06999ea98a32c89c/libwapiti-0.2.1.tar.gz (233kB)\n",
            "\u001b[K     |████████████████████████████████| 235kB 47.7MB/s \n",
            "\u001b[?25hRequirement already satisfied: six in /usr/local/lib/python3.7/dist-packages (from nltk==3.3->hazm) (1.15.0)\n",
            "Building wheels for collected packages: nltk, libwapiti\n",
            "  Building wheel for nltk (setup.py) ... \u001b[?25l\u001b[?25hdone\n",
            "  Created wheel for nltk: filename=nltk-3.3-cp37-none-any.whl size=1394470 sha256=113155c827b5ad5fc3bc5a933594d9b7bbf48b57ece462516005c8c9ab646123\n",
            "  Stored in directory: /root/.cache/pip/wheels/d1/ab/40/3bceea46922767e42986aef7606a600538ca80de6062dc266c\n",
            "  Building wheel for libwapiti (setup.py) ... \u001b[?25l\u001b[?25hdone\n",
            "  Created wheel for libwapiti: filename=libwapiti-0.2.1-cp37-cp37m-linux_x86_64.whl size=154963 sha256=8e787622cd10be23556a38d345a8157b2a5e4b3740f8897508e156b41a88ad57\n",
            "  Stored in directory: /root/.cache/pip/wheels/66/15/54/4510dce8bb958b1cdd2c47425cbd1e1eecc0480ac9bb1fb9ab\n",
            "Successfully built nltk libwapiti\n",
            "Installing collected packages: nltk, libwapiti, hazm\n",
            "  Found existing installation: nltk 3.2.5\n",
            "    Uninstalling nltk-3.2.5:\n",
            "      Successfully uninstalled nltk-3.2.5\n",
            "Successfully installed hazm-0.7.0 libwapiti-0.2.1 nltk-3.3\n"
          ],
          "name": "stdout"
        }
      ]
    },
    {
      "cell_type": "code",
      "metadata": {
        "id": "j_vLdqIWzar5"
      },
      "source": [
        "#from __future__ import unicode_literals\r\n",
        "from hazm import *"
      ],
      "execution_count": null,
      "outputs": []
    },
    {
      "cell_type": "markdown",
      "metadata": {
        "id": "xS4_SIV5VqHD"
      },
      "source": [
        "# **Normalizer**"
      ]
    },
    {
      "cell_type": "code",
      "metadata": {
        "colab": {
          "base_uri": "https://localhost:8080/"
        },
        "id": "Uc9LhT5vzmLE",
        "outputId": "61167ce4-b770-43b7-ccb1-eea23cf43b3d"
      },
      "source": [
        "normalizer = Normalizer()\r\n",
        "print (normalizer.normalize(\"ك - ک - می خواهم - ایده ی خوب\"))"
      ],
      "execution_count": null,
      "outputs": [
        {
          "output_type": "stream",
          "text": [
            "ک - ک - می‌خواهم - ایده‌ی خوب\n"
          ],
          "name": "stdout"
        }
      ]
    },
    {
      "cell_type": "markdown",
      "metadata": {
        "id": "u13uoSKtV5mp"
      },
      "source": [
        "# **Sentence Splitter and Tokenizer**"
      ]
    },
    {
      "cell_type": "code",
      "metadata": {
        "colab": {
          "base_uri": "https://localhost:8080/"
        },
        "id": "C878pID80Jqq",
        "outputId": "82a782d9-fced-4c9c-e7ec-aa899c16933f"
      },
      "source": [
        "sent_tokenize('او دانشجوی زبان است. در ایران در میخونه')"
      ],
      "execution_count": null,
      "outputs": [
        {
          "output_type": "execute_result",
          "data": {
            "text/plain": [
              "['او دانشجوی زبان است.', 'در ایران در میخونه']"
            ]
          },
          "metadata": {
            "tags": []
          },
          "execution_count": 4
        }
      ]
    },
    {
      "cell_type": "code",
      "metadata": {
        "colab": {
          "base_uri": "https://localhost:8080/"
        },
        "id": "FzPxViHK0Q8h",
        "outputId": "5028c31b-48c0-4c5a-afdf-35e6d9123e52"
      },
      "source": [
        "word_tokenize('او دانشجو است')"
      ],
      "execution_count": null,
      "outputs": [
        {
          "output_type": "execute_result",
          "data": {
            "text/plain": [
              "['او', 'دانشجو', 'است']"
            ]
          },
          "metadata": {
            "tags": []
          },
          "execution_count": 5
        }
      ]
    },
    {
      "cell_type": "markdown",
      "metadata": {
        "id": "e4xKr0KoV_97"
      },
      "source": [
        "# **Stemmer and Lemmatizer**"
      ]
    },
    {
      "cell_type": "code",
      "metadata": {
        "colab": {
          "base_uri": "https://localhost:8080/",
          "height": 35
        },
        "id": "-RiyCXKU0UQB",
        "outputId": "2a550b7f-e6f2-49df-e1ac-eaec26a9a981"
      },
      "source": [
        "stemmer = Stemmer()\r\n",
        "stemmer.stem('شهرها')"
      ],
      "execution_count": null,
      "outputs": [
        {
          "output_type": "execute_result",
          "data": {
            "application/vnd.google.colaboratory.intrinsic+json": {
              "type": "string"
            },
            "text/plain": [
              "'شهر'"
            ]
          },
          "metadata": {
            "tags": []
          },
          "execution_count": 6
        }
      ]
    },
    {
      "cell_type": "code",
      "metadata": {
        "colab": {
          "base_uri": "https://localhost:8080/",
          "height": 35
        },
        "id": "UBjiZD3M0Xhh",
        "outputId": "9e025efa-0f52-48de-c026-a0fa9411f045"
      },
      "source": [
        "lemmatizer = Lemmatizer()\r\n",
        "lemmatizer.lemmatize('می‌خواهم')"
      ],
      "execution_count": null,
      "outputs": [
        {
          "output_type": "execute_result",
          "data": {
            "application/vnd.google.colaboratory.intrinsic+json": {
              "type": "string"
            },
            "text/plain": [
              "'خواست#خواه'"
            ]
          },
          "metadata": {
            "tags": []
          },
          "execution_count": 7
        }
      ]
    },
    {
      "cell_type": "markdown",
      "metadata": {
        "id": "P9jOM8gPWZMI"
      },
      "source": [
        "# **Stop Word Removal**"
      ]
    },
    {
      "cell_type": "code",
      "metadata": {
        "colab": {
          "base_uri": "https://localhost:8080/"
        },
        "id": "aWgwetkALjYU",
        "outputId": "276f4812-04d8-4ef7-c30b-5b17a4296c09"
      },
      "source": [
        "set (stopwords_list())"
      ],
      "execution_count": null,
      "outputs": [
        {
          "output_type": "execute_result",
          "data": {
            "text/plain": [
              "{'آخرین',\n",
              " 'آقای',\n",
              " 'آمد',\n",
              " 'آمده',\n",
              " 'آمده_است',\n",
              " 'آن',\n",
              " 'آنان',\n",
              " 'آنجا',\n",
              " 'آنها',\n",
              " 'آنچه',\n",
              " 'آنکه',\n",
              " 'آورد',\n",
              " 'آوری',\n",
              " 'آیا',\n",
              " 'ابتدا',\n",
              " 'اثر',\n",
              " 'اجرا',\n",
              " 'اخیر',\n",
              " 'از',\n",
              " 'است',\n",
              " 'اش',\n",
              " 'اغلب',\n",
              " 'افراد',\n",
              " 'افرادی',\n",
              " 'افزود',\n",
              " 'البته',\n",
              " 'اما',\n",
              " 'امر',\n",
              " 'امکان',\n",
              " 'اند',\n",
              " 'او',\n",
              " 'اول',\n",
              " 'اولین',\n",
              " 'اکنون',\n",
              " 'اگر',\n",
              " 'ایشان',\n",
              " 'این',\n",
              " 'اینجا',\n",
              " 'اینکه',\n",
              " 'با',\n",
              " 'بار',\n",
              " 'باره',\n",
              " 'باز',\n",
              " 'باشد',\n",
              " 'باشند',\n",
              " 'باعث',\n",
              " 'بالا',\n",
              " 'باید',\n",
              " 'بخش',\n",
              " 'بخشی',\n",
              " 'بدون',\n",
              " 'بر',\n",
              " 'برابر',\n",
              " 'براساس',\n",
              " 'برای',\n",
              " 'برخی',\n",
              " 'برداری',\n",
              " 'بروز',\n",
              " 'بزرگ',\n",
              " 'بسیار',\n",
              " 'بسیاری',\n",
              " 'بعد',\n",
              " 'بعضی',\n",
              " 'بلکه',\n",
              " 'بنابراین',\n",
              " 'بندی',\n",
              " 'به',\n",
              " 'بهتر',\n",
              " 'بهترین',\n",
              " 'بود',\n",
              " 'بودن',\n",
              " 'بودند',\n",
              " 'بوده',\n",
              " 'بوده_است',\n",
              " 'بی',\n",
              " 'بیان',\n",
              " 'بیرون',\n",
              " 'بیش',\n",
              " 'بیشتر',\n",
              " 'بیشتری',\n",
              " 'بین',\n",
              " 'تا',\n",
              " 'تاکنون',\n",
              " 'تبدیل',\n",
              " 'تحت',\n",
              " 'ترتیب',\n",
              " 'تعداد',\n",
              " 'تعیین',\n",
              " 'تغییر',\n",
              " 'تمام',\n",
              " 'تمامی',\n",
              " 'تنها',\n",
              " 'تهیه',\n",
              " 'تو',\n",
              " 'جا',\n",
              " 'جاری',\n",
              " 'جای',\n",
              " 'جایی',\n",
              " 'جدی',\n",
              " 'جدید',\n",
              " 'جریان',\n",
              " 'جز',\n",
              " 'جمع',\n",
              " 'جمعی',\n",
              " 'حال',\n",
              " 'حالا',\n",
              " 'حالی',\n",
              " 'حتی',\n",
              " 'حد',\n",
              " 'حداقل',\n",
              " 'حدود',\n",
              " 'حل',\n",
              " 'خاص',\n",
              " 'خاطرنشان',\n",
              " 'خصوص',\n",
              " 'خطر',\n",
              " 'خواهد_بود',\n",
              " 'خواهد_شد',\n",
              " 'خواهد_کرد',\n",
              " 'خوب',\n",
              " 'خوبی',\n",
              " 'خود',\n",
              " 'خودش',\n",
              " 'خویش',\n",
              " 'خیلی',\n",
              " 'داد',\n",
              " 'دادن',\n",
              " 'دادند',\n",
              " 'داده',\n",
              " 'داده_است',\n",
              " 'دار',\n",
              " 'دارای',\n",
              " 'دارد',\n",
              " 'دارند',\n",
              " 'داریم',\n",
              " 'داشت',\n",
              " 'داشتن',\n",
              " 'داشتند',\n",
              " 'داشته',\n",
              " 'داشته_است',\n",
              " 'داشته_باشد',\n",
              " 'داشته_باشند',\n",
              " 'دانست',\n",
              " 'در',\n",
              " 'درباره',\n",
              " 'درون',\n",
              " 'دسته',\n",
              " 'دهد',\n",
              " 'دهند',\n",
              " 'دهه',\n",
              " 'دو',\n",
              " 'دوباره',\n",
              " 'دور',\n",
              " 'دوم',\n",
              " 'دچار',\n",
              " 'دیگر',\n",
              " 'دیگران',\n",
              " 'دیگری',\n",
              " 'را',\n",
              " 'راه',\n",
              " 'رسید',\n",
              " 'رسیدن',\n",
              " 'رشد',\n",
              " 'رفت',\n",
              " 'رو',\n",
              " 'روبه',\n",
              " 'روش',\n",
              " 'روند',\n",
              " 'روی',\n",
              " 'ریزی',\n",
              " 'زاده',\n",
              " 'زیاد',\n",
              " 'زیادی',\n",
              " 'زیر',\n",
              " 'زیرا',\n",
              " 'ساز',\n",
              " 'سازی',\n",
              " 'ساله',\n",
              " 'سالهای',\n",
              " 'سال\\u200cهای',\n",
              " 'سایر',\n",
              " 'سبب',\n",
              " 'سراسر',\n",
              " 'سعی',\n",
              " 'سمت',\n",
              " 'سه',\n",
              " 'سهم',\n",
              " 'سوم',\n",
              " 'سوی',\n",
              " 'سپس',\n",
              " 'سی',\n",
              " 'شامل',\n",
              " 'شان',\n",
              " 'شاید',\n",
              " 'شخصی',\n",
              " 'شد',\n",
              " 'شدن',\n",
              " 'شدند',\n",
              " 'شده',\n",
              " 'شده_است',\n",
              " 'شده_اند',\n",
              " 'شده_بود',\n",
              " 'شروع',\n",
              " 'شش',\n",
              " 'شما',\n",
              " 'شمار',\n",
              " 'شود',\n",
              " 'شوند',\n",
              " 'صرف',\n",
              " 'ضمن',\n",
              " 'طبق',\n",
              " 'طرف',\n",
              " 'طور',\n",
              " 'طول',\n",
              " 'طی',\n",
              " 'ع',\n",
              " 'عالی',\n",
              " 'عدم',\n",
              " 'علاوه',\n",
              " 'علت',\n",
              " 'علیه',\n",
              " 'عهده',\n",
              " 'عین',\n",
              " 'غیر',\n",
              " 'فرد',\n",
              " 'فردی',\n",
              " 'فقط',\n",
              " 'فوق',\n",
              " 'فکر',\n",
              " 'قابل',\n",
              " 'قبل',\n",
              " 'لازم',\n",
              " 'لحاظ',\n",
              " 'لذا',\n",
              " 'ما',\n",
              " 'مانند',\n",
              " 'متاسفانه',\n",
              " 'متر',\n",
              " 'متفاوت',\n",
              " 'مثل',\n",
              " 'محسوب',\n",
              " 'مدت',\n",
              " 'مربوط',\n",
              " 'مشخص',\n",
              " 'ممکن',\n",
              " 'من',\n",
              " 'مناسب',\n",
              " 'منظور',\n",
              " 'مهم',\n",
              " 'مواجه',\n",
              " 'موجب',\n",
              " 'مورد',\n",
              " 'می',\n",
              " 'میان',\n",
              " 'می\\u200cآید',\n",
              " 'می\\u200cباشد',\n",
              " 'می\\u200cتوان',\n",
              " 'می\\u200cتواند',\n",
              " 'می\\u200cتوانند',\n",
              " 'می\\u200cدهد',\n",
              " 'می\\u200cدهند',\n",
              " 'می\\u200cرسد',\n",
              " 'می\\u200cرود',\n",
              " 'می\\u200cشد',\n",
              " 'می\\u200cشود',\n",
              " 'می\\u200cشوند',\n",
              " 'می\\u200cکرد',\n",
              " 'می\\u200cکردند',\n",
              " 'می\\u200cکند',\n",
              " 'می\\u200cکنم',\n",
              " 'می\\u200cکنند',\n",
              " 'می\\u200cکنیم',\n",
              " 'می\\u200cگوید',\n",
              " 'می\\u200cگویند',\n",
              " 'می\\u200cگیرد',\n",
              " 'می\\u200cیابد',\n",
              " 'ناشی',\n",
              " 'نباید',\n",
              " 'نبود',\n",
              " 'نحوه',\n",
              " 'نخست',\n",
              " 'نخستین',\n",
              " 'ندارد',\n",
              " 'ندارند',\n",
              " 'نزدیک',\n",
              " 'نسبت',\n",
              " 'نشست',\n",
              " 'نظر',\n",
              " 'نظیر',\n",
              " 'نمی\\u200cشود',\n",
              " 'نه',\n",
              " 'نوع',\n",
              " 'نوعی',\n",
              " 'نیاز',\n",
              " 'نیز',\n",
              " 'نیست',\n",
              " 'نیستند',\n",
              " 'نیمه',\n",
              " 'هایی',\n",
              " 'هر',\n",
              " 'هستند',\n",
              " 'هستیم',\n",
              " 'هم',\n",
              " 'همان',\n",
              " 'همه',\n",
              " 'همواره',\n",
              " 'همچنان',\n",
              " 'همچنین',\n",
              " 'همچون',\n",
              " 'همیشه',\n",
              " 'همین',\n",
              " 'هنوز',\n",
              " 'هنگام',\n",
              " 'هیچ',\n",
              " 'و',\n",
              " 'وارد',\n",
              " 'وجود',\n",
              " 'وقتی',\n",
              " 'ولی',\n",
              " 'وگو',\n",
              " 'وی',\n",
              " 'ویژه',\n",
              " 'پخش',\n",
              " 'پر',\n",
              " 'پس',\n",
              " 'پشت',\n",
              " 'پنج',\n",
              " 'پی',\n",
              " 'پیدا',\n",
              " 'پیش',\n",
              " 'چرا',\n",
              " 'چند',\n",
              " 'چنین',\n",
              " 'چه',\n",
              " 'چهار',\n",
              " 'چهارم',\n",
              " 'چون',\n",
              " 'چگونه',\n",
              " 'چیز',\n",
              " 'چیزی',\n",
              " 'کافی',\n",
              " 'کامل',\n",
              " 'کاملا',\n",
              " 'کدام',\n",
              " 'کرد',\n",
              " 'کردم',\n",
              " 'کردن',\n",
              " 'کردند',\n",
              " 'کرده',\n",
              " 'کرده_است',\n",
              " 'کرده_اند',\n",
              " 'کرده_بود',\n",
              " 'کسانی',\n",
              " 'کسی',\n",
              " 'کل',\n",
              " 'کلی',\n",
              " 'کم',\n",
              " 'کمی',\n",
              " 'کنار',\n",
              " 'کند',\n",
              " 'کنم',\n",
              " 'کنند',\n",
              " 'کننده',\n",
              " 'کنندگان',\n",
              " 'کنید',\n",
              " 'کنیم',\n",
              " 'که',\n",
              " 'کوچک',\n",
              " 'گاه',\n",
              " 'گذاری',\n",
              " 'گردد',\n",
              " 'گرفت',\n",
              " 'گرفته',\n",
              " 'گرفته_است',\n",
              " 'گروهی',\n",
              " 'گفت',\n",
              " 'گفته',\n",
              " 'گونه',\n",
              " 'گیرد',\n",
              " 'گیری',\n",
              " 'یا',\n",
              " 'یابد',\n",
              " 'یافت',\n",
              " 'یافته',\n",
              " 'یافته_است',\n",
              " 'یعنی',\n",
              " 'یک',\n",
              " 'یکدیگر',\n",
              " 'یکی'}"
            ]
          },
          "metadata": {
            "tags": []
          },
          "execution_count": 8
        }
      ]
    },
    {
      "cell_type": "code",
      "metadata": {
        "colab": {
          "base_uri": "https://localhost:8080/"
        },
        "id": "5Q12gkmVQpsT",
        "outputId": "c013134e-3968-4b4b-e91b-590c43583a1c"
      },
      "source": [
        "#from hazm import stopwords_list  \r\n",
        "#from hazm import word_tokenize  \r\n",
        "  \r\n",
        "example_sent = \"\"\"او دوست دارد زبان بخوند ولی رشته یش مهندسی است\"\"\"\r\n",
        "  \r\n",
        "stop_words = set(stopwords_list())  \r\n",
        "  \r\n",
        "word_tokens = word_tokenize(example_sent)  \r\n",
        "  \r\n",
        "filtered_sentence = [w for w in word_tokens if not w in stop_words]  \r\n",
        "  \r\n",
        "filtered_sentence = []  \r\n",
        "  \r\n",
        "for w in word_tokens:  \r\n",
        "    if w not in stop_words:  \r\n",
        "        filtered_sentence.append(w)  \r\n",
        "  \r\n",
        "print(word_tokens)  \r\n",
        "print(filtered_sentence) "
      ],
      "execution_count": null,
      "outputs": [
        {
          "output_type": "stream",
          "text": [
            "['او', 'دوست', 'دارد', 'زبان', 'بخوند', 'ولی', 'رشته', 'یش', 'مهندسی', 'است']\n",
            "['دوست', 'زبان', 'بخوند', 'رشته', 'یش', 'مهندسی']\n"
          ],
          "name": "stdout"
        }
      ]
    },
    {
      "cell_type": "markdown",
      "metadata": {
        "id": "B4qw76UTWQbA"
      },
      "source": [
        "# **Part-of-speech Tagging**"
      ]
    },
    {
      "cell_type": "code",
      "metadata": {
        "colab": {
          "base_uri": "https://localhost:8080/"
        },
        "id": "N2eW-372SrTK",
        "outputId": "fd7b2595-1632-4615-a83e-e7001d83490b"
      },
      "source": [
        "from google.colab import drive\r\n",
        "drive.mount('/content/drive')"
      ],
      "execution_count": null,
      "outputs": [
        {
          "output_type": "stream",
          "text": [
            "Mounted at /content/drive\n"
          ],
          "name": "stdout"
        }
      ]
    },
    {
      "cell_type": "code",
      "metadata": {
        "id": "tf3Y9Xq1TACh"
      },
      "source": [
        "#copy files to Colab\r\n",
        "!cp -r \"/content/drive/My Drive/resources/\" ./"
      ],
      "execution_count": null,
      "outputs": []
    },
    {
      "cell_type": "code",
      "metadata": {
        "id": "on2-vI6FaFlq",
        "colab": {
          "base_uri": "https://localhost:8080/"
        },
        "outputId": "e4cc3a63-c15b-410e-ef4f-33f1f84e6589"
      },
      "source": [
        "tagger = POSTagger(model='/content/resources/postagger.model')\r\n",
        "tagger.tag(word_tokenize('او دانشجو در ایران است'))"
      ],
      "execution_count": null,
      "outputs": [
        {
          "output_type": "execute_result",
          "data": {
            "text/plain": [
              "[('او', 'PRO'), ('دانشجو', 'N'), ('در', 'P'), ('ایران', 'N'), ('است', 'V')]"
            ]
          },
          "metadata": {
            "tags": []
          },
          "execution_count": 4
        }
      ]
    }
  ]
}