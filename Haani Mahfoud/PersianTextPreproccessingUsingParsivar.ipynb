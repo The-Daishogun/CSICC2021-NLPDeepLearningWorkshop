{
  "nbformat": 4,
  "nbformat_minor": 0,
  "metadata": {
    "colab": {
      "name": "پیش_پردازش_متون_فارسی_با_استفاده_از_کتابخانه_پارسیوار.ipynb",
      "provenance": [],
      "toc_visible": true
    },
    "kernelspec": {
      "name": "python3",
      "display_name": "Python 3"
    }
  },
  "cells": [
    {
      "cell_type": "markdown",
      "metadata": {
        "id": "gKwNciwXACU3"
      },
      "source": [
        "# **پیش پردازش متون فارسی با استفاده از کتابخانه پارسیوار**\r\n",
        "\r\n"
      ]
    },
    {
      "cell_type": "code",
      "metadata": {
        "id": "Fv2DG_K5DnU3"
      },
      "source": [
        "#https://github.com/ICTRC/Parsivar"
      ],
      "execution_count": null,
      "outputs": []
    },
    {
      "cell_type": "code",
      "metadata": {
        "colab": {
          "base_uri": "https://localhost:8080/"
        },
        "id": "nfYHdCGp_V7M",
        "outputId": "e8bc5be6-e64f-4459-d8a4-2c206334838f"
      },
      "source": [
        "pip install parsivar"
      ],
      "execution_count": null,
      "outputs": [
        {
          "output_type": "stream",
          "text": [
            "Collecting parsivar\n",
            "\u001b[?25l  Downloading https://files.pythonhosted.org/packages/b7/53/55561d12a6fd5304b281b3e444c8713271ce876578f952193664f33867d4/parsivar-0.2.3.tar.gz (36.2MB)\n",
            "\u001b[K     |████████████████████████████████| 36.2MB 1.3MB/s \n",
            "\u001b[?25hCollecting nltk==3.4.5\n",
            "\u001b[?25l  Downloading https://files.pythonhosted.org/packages/f6/1d/d925cfb4f324ede997f6d47bea4d9babba51b49e87a767c170b77005889d/nltk-3.4.5.zip (1.5MB)\n",
            "\u001b[K     |████████████████████████████████| 1.5MB 35.4MB/s \n",
            "\u001b[?25hRequirement already satisfied: six in /usr/local/lib/python3.7/dist-packages (from nltk==3.4.5->parsivar) (1.15.0)\n",
            "Building wheels for collected packages: parsivar, nltk\n",
            "  Building wheel for parsivar (setup.py) ... \u001b[?25l\u001b[?25hdone\n",
            "  Created wheel for parsivar: filename=parsivar-0.2.3-cp37-none-any.whl size=36492958 sha256=d4bb8e0b8ad2db44f2bedd815c51e314b4c437506e8fe608a573cc244c55c543\n",
            "  Stored in directory: /root/.cache/pip/wheels/b4/56/cd/29a045228c81c482429c711646af316ada1218f3029edce37c\n",
            "  Building wheel for nltk (setup.py) ... \u001b[?25l\u001b[?25hdone\n",
            "  Created wheel for nltk: filename=nltk-3.4.5-cp37-none-any.whl size=1449907 sha256=2c920feeff6f2a19cdc156eb0e9683ec31f1104e93726f7453c9723da59b53c6\n",
            "  Stored in directory: /root/.cache/pip/wheels/96/86/f6/68ab24c23f207c0077381a5e3904b2815136b879538a24b483\n",
            "Successfully built parsivar nltk\n",
            "Installing collected packages: nltk, parsivar\n",
            "  Found existing installation: nltk 3.2.5\n",
            "    Uninstalling nltk-3.2.5:\n",
            "      Successfully uninstalled nltk-3.2.5\n",
            "Successfully installed nltk-3.4.5 parsivar-0.2.3\n"
          ],
          "name": "stdout"
        }
      ]
    },
    {
      "cell_type": "markdown",
      "metadata": {
        "id": "0pVnQ_Y5ZUZo"
      },
      "source": [
        "# **Normalizer**"
      ]
    },
    {
      "cell_type": "code",
      "metadata": {
        "colab": {
          "base_uri": "https://localhost:8080/"
        },
        "id": "MZrXA0YwAsJO",
        "outputId": "0d4ae1d2-7541-45f7-d648-0ba77c46ce9c"
      },
      "source": [
        "from parsivar import Normalizer\r\n",
        "my_normalizer = Normalizer()\r\n",
        "print(my_normalizer.normalize(\"ك - ک - می خواهم \"))"
      ],
      "execution_count": null,
      "outputs": [
        {
          "output_type": "stream",
          "text": [
            "ک - ک - می‌خواهم\n"
          ],
          "name": "stdout"
        }
      ]
    },
    {
      "cell_type": "markdown",
      "metadata": {
        "id": "KCs52MuNZbn_"
      },
      "source": [
        "# **Sentence Splitter and Tokenizer**"
      ]
    },
    {
      "cell_type": "code",
      "metadata": {
        "colab": {
          "base_uri": "https://localhost:8080/"
        },
        "id": "ghnX44WoBQzi",
        "outputId": "2e0df523-2b00-477a-ac8d-d6100312ee5c"
      },
      "source": [
        "from parsivar import Tokenizer\r\n",
        "my_normalizer = Normalizer()\r\n",
        "my_tokenizer = Tokenizer()\r\n",
        "sents = my_tokenizer.tokenize_sentences(my_normalizer.normalize(\"او دانشجو است. در ایران درس میخونه.\"))\r\n",
        "print(sents)"
      ],
      "execution_count": null,
      "outputs": [
        {
          "output_type": "stream",
          "text": [
            "['او دانشجو است  .', ' در ایران درس میخونه  .']\n"
          ],
          "name": "stdout"
        }
      ]
    },
    {
      "cell_type": "code",
      "metadata": {
        "colab": {
          "base_uri": "https://localhost:8080/"
        },
        "id": "sEgcMS76BFSj",
        "outputId": "11c2ba1f-420c-4f87-b13a-a72410ada5aa"
      },
      "source": [
        "words = my_tokenizer.tokenize_words(my_normalizer.normalize(\"او دانشجو است. در ایران درس میخونه.\"))\r\n",
        "print(words)"
      ],
      "execution_count": null,
      "outputs": [
        {
          "output_type": "stream",
          "text": [
            "['او', 'دانشجو', 'است', '.', 'در', 'ایران', 'درس', 'میخونه', '.']\n"
          ],
          "name": "stdout"
        }
      ]
    },
    {
      "cell_type": "markdown",
      "metadata": {
        "id": "ZmIhu-bBZxAG"
      },
      "source": [
        "# **FindStems**"
      ]
    },
    {
      "cell_type": "code",
      "metadata": {
        "colab": {
          "base_uri": "https://localhost:8080/"
        },
        "id": "0HkCjbA8Bw6K",
        "outputId": "38e77820-1503-443b-c8ea-c82eb8308684"
      },
      "source": [
        "from parsivar import FindStems\r\n",
        "my_stemmer = FindStems()\r\n",
        "print(my_stemmer.convert_to_stem(\"شهرها\"))"
      ],
      "execution_count": null,
      "outputs": [
        {
          "output_type": "stream",
          "text": [
            "شهر\n"
          ],
          "name": "stdout"
        }
      ]
    },
    {
      "cell_type": "markdown",
      "metadata": {
        "id": "cBhFWsBfZzvX"
      },
      "source": [
        "# **Spell Correction**"
      ]
    },
    {
      "cell_type": "code",
      "metadata": {
        "id": "NxcXzQzUL18S",
        "colab": {
          "base_uri": "https://localhost:8080/"
        },
        "outputId": "f19efb28-7ba3-4138-fad1-cacc06ef25cf"
      },
      "source": [
        "from google.colab import drive\n",
        "drive.mount('/content/drive')"
      ],
      "execution_count": null,
      "outputs": [
        {
          "output_type": "stream",
          "text": [
            "Mounted at /content/drive\n"
          ],
          "name": "stdout"
        }
      ]
    },
    {
      "cell_type": "code",
      "metadata": {
        "id": "HbLFk74wZ-89"
      },
      "source": [
        "#copy files to Colab\r\n",
        "!cp -r \"/content/drive/My Drive/spell/\" ./"
      ],
      "execution_count": null,
      "outputs": []
    },
    {
      "cell_type": "code",
      "metadata": {
        "id": "7TPPOISnrSix"
      },
      "source": [
        "!cp -r /content/spell/. /usr/local/lib/python3.7/dist-packages/parsivar/resource/spell"
      ],
      "execution_count": null,
      "outputs": []
    },
    {
      "cell_type": "code",
      "metadata": {
        "colab": {
          "base_uri": "https://localhost:8080/",
          "height": 35
        },
        "id": "xuOHzX-IDvcV",
        "outputId": "3d6ee8d4-708b-4db4-fe6e-2d6935a1cfc6"
      },
      "source": [
        "from parsivar import SpellCheck\r\n",
        "myspell_checker = SpellCheck()\r\n",
        "res = myspell_checker.spell_corrector(\"نمازگذاران وارد مسلی شدند.\")\r\n",
        "res"
      ],
      "execution_count": null,
      "outputs": [
        {
          "output_type": "execute_result",
          "data": {
            "application/vnd.google.colaboratory.intrinsic+json": {
              "type": "string"
            },
            "text/plain": [
              "'نمازگزاران وارد مصلی شدند .'"
            ]
          },
          "metadata": {
            "tags": []
          },
          "execution_count": 9
        }
      ]
    },
    {
      "cell_type": "code",
      "metadata": {
        "colab": {
          "base_uri": "https://localhost:8080/",
          "height": 35
        },
        "id": "uyUD795br4kf",
        "outputId": "a1e31f5b-738d-47e3-c076-38717e875c18"
      },
      "source": [
        "res2 = myspell_checker.spell_corrector(\"آب مبات چوشمزه ست\")\r\n",
        "res2"
      ],
      "execution_count": null,
      "outputs": [
        {
          "output_type": "execute_result",
          "data": {
            "application/vnd.google.colaboratory.intrinsic+json": {
              "type": "string"
            },
            "text/plain": [
              "'آب ثبات خوشمزه است'"
            ]
          },
          "metadata": {
            "tags": []
          },
          "execution_count": 10
        }
      ]
    }
  ]
}