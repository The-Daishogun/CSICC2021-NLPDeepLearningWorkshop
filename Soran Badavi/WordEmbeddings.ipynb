{
  "nbformat": 4,
  "nbformat_minor": 0,
  "metadata": {
    "colab": {
      "name": "conference.ipynb",
      "provenance": [],
      "collapsed_sections": [],
      "toc_visible": true
    },
    "kernelspec": {
      "name": "python3",
      "display_name": "Python 3"
    }
  },
  "cells": [
    {
      "cell_type": "markdown",
      "metadata": {
        "id": "7j_R-kXL4atm"
      },
      "source": [
        "#Bag of words"
      ]
    },
    {
      "cell_type": "code",
      "metadata": {
        "id": "a7Mj_K-g8wt2"
      },
      "source": [
        "# import and instantiate CountVectorizer (with the default parameters)\r\n",
        "from sklearn.feature_extraction.text import CountVectorizer\r\n",
        "vect = CountVectorizer()"
      ],
      "execution_count": null,
      "outputs": []
    },
    {
      "cell_type": "code",
      "metadata": {
        "id": "jQaqw7hP85tu"
      },
      "source": [
        "sample = ['من رفتم تهران', 'من در تهران زندگی میکنم', 'تهران زیبا است']"
      ],
      "execution_count": null,
      "outputs": []
    },
    {
      "cell_type": "code",
      "metadata": {
        "colab": {
          "base_uri": "https://localhost:8080/"
        },
        "id": "7re3Zfqq-CGH",
        "outputId": "d79c6f9b-f213-4ae8-c6f0-5be20e20a3e7"
      },
      "source": [
        "vect.fit(sample)"
      ],
      "execution_count": null,
      "outputs": [
        {
          "output_type": "execute_result",
          "data": {
            "text/plain": [
              "CountVectorizer(analyzer='word', binary=False, decode_error='strict',\n",
              "                dtype=<class 'numpy.int64'>, encoding='utf-8', input='content',\n",
              "                lowercase=True, max_df=1.0, max_features=None, min_df=1,\n",
              "                ngram_range=(1, 1), preprocessor=None, stop_words=None,\n",
              "                strip_accents=None, token_pattern='(?u)\\\\b\\\\w\\\\w+\\\\b',\n",
              "                tokenizer=None, vocabulary=None)"
            ]
          },
          "metadata": {
            "tags": []
          },
          "execution_count": 3
        }
      ]
    },
    {
      "cell_type": "code",
      "metadata": {
        "colab": {
          "base_uri": "https://localhost:8080/"
        },
        "id": "wZnyBGCE-Kpw",
        "outputId": "e3e82b60-fa1a-434a-f5f6-4d7251a781d3"
      },
      "source": [
        "\r\n",
        "vect.get_feature_names()"
      ],
      "execution_count": null,
      "outputs": [
        {
          "output_type": "execute_result",
          "data": {
            "text/plain": [
              "['است', 'تهران', 'در', 'رفتم', 'زندگی', 'زیبا', 'من', 'میکنم']"
            ]
          },
          "metadata": {
            "tags": []
          },
          "execution_count": 4
        }
      ]
    },
    {
      "cell_type": "code",
      "metadata": {
        "colab": {
          "base_uri": "https://localhost:8080/"
        },
        "id": "Qeevn6Jz-ZOa",
        "outputId": "7fe43597-1bdb-49c0-f722-0d724268ee9f"
      },
      "source": [
        "# transform testing data into a document-term matrix (using existing vocabulary)\r\n",
        "simple_train_dtm = vect.transform(sample)\r\n",
        "simple_train_dtm"
      ],
      "execution_count": null,
      "outputs": [
        {
          "output_type": "execute_result",
          "data": {
            "text/plain": [
              "<3x8 sparse matrix of type '<class 'numpy.int64'>'\n",
              "\twith 11 stored elements in Compressed Sparse Row format>"
            ]
          },
          "metadata": {
            "tags": []
          },
          "execution_count": 5
        }
      ]
    },
    {
      "cell_type": "code",
      "metadata": {
        "colab": {
          "base_uri": "https://localhost:8080/"
        },
        "id": "r3_JkKPs-csl",
        "outputId": "48d9c528-524a-4729-ce35-acf1016458e0"
      },
      "source": [
        "simple_train_dtm.toarray()"
      ],
      "execution_count": null,
      "outputs": [
        {
          "output_type": "execute_result",
          "data": {
            "text/plain": [
              "array([[0, 1, 0, 1, 0, 0, 1, 0],\n",
              "       [0, 1, 1, 0, 1, 0, 1, 1],\n",
              "       [1, 1, 0, 0, 0, 1, 0, 0]])"
            ]
          },
          "metadata": {
            "tags": []
          },
          "execution_count": 6
        }
      ]
    },
    {
      "cell_type": "code",
      "metadata": {
        "colab": {
          "base_uri": "https://localhost:8080/",
          "height": 138
        },
        "id": "IdBIUPt--lYD",
        "outputId": "c3d79eba-61d4-466d-e1d1-e5acab11b5c5"
      },
      "source": [
        "# examine the vocabulary and document-term matrix together\r\n",
        "import pandas as pd\r\n",
        "\r\n",
        "pd.DataFrame(simple_train_dtm.toarray(), columns=vect.get_feature_names())"
      ],
      "execution_count": null,
      "outputs": [
        {
          "output_type": "execute_result",
          "data": {
            "text/html": [
              "<div>\n",
              "<style scoped>\n",
              "    .dataframe tbody tr th:only-of-type {\n",
              "        vertical-align: middle;\n",
              "    }\n",
              "\n",
              "    .dataframe tbody tr th {\n",
              "        vertical-align: top;\n",
              "    }\n",
              "\n",
              "    .dataframe thead th {\n",
              "        text-align: right;\n",
              "    }\n",
              "</style>\n",
              "<table border=\"1\" class=\"dataframe\">\n",
              "  <thead>\n",
              "    <tr style=\"text-align: right;\">\n",
              "      <th></th>\n",
              "      <th>است</th>\n",
              "      <th>تهران</th>\n",
              "      <th>در</th>\n",
              "      <th>رفتم</th>\n",
              "      <th>زندگی</th>\n",
              "      <th>زیبا</th>\n",
              "      <th>من</th>\n",
              "      <th>میکنم</th>\n",
              "    </tr>\n",
              "  </thead>\n",
              "  <tbody>\n",
              "    <tr>\n",
              "      <th>0</th>\n",
              "      <td>0</td>\n",
              "      <td>1</td>\n",
              "      <td>0</td>\n",
              "      <td>1</td>\n",
              "      <td>0</td>\n",
              "      <td>0</td>\n",
              "      <td>1</td>\n",
              "      <td>0</td>\n",
              "    </tr>\n",
              "    <tr>\n",
              "      <th>1</th>\n",
              "      <td>0</td>\n",
              "      <td>1</td>\n",
              "      <td>1</td>\n",
              "      <td>0</td>\n",
              "      <td>1</td>\n",
              "      <td>0</td>\n",
              "      <td>1</td>\n",
              "      <td>1</td>\n",
              "    </tr>\n",
              "    <tr>\n",
              "      <th>2</th>\n",
              "      <td>1</td>\n",
              "      <td>1</td>\n",
              "      <td>0</td>\n",
              "      <td>0</td>\n",
              "      <td>0</td>\n",
              "      <td>1</td>\n",
              "      <td>0</td>\n",
              "      <td>0</td>\n",
              "    </tr>\n",
              "  </tbody>\n",
              "</table>\n",
              "</div>"
            ],
            "text/plain": [
              "   است  تهران  در  رفتم  زندگی  زیبا  من  میکنم\n",
              "0    0      1   0     1      0     0   1      0\n",
              "1    0      1   1     0      1     0   1      1\n",
              "2    1      1   0     0      0     1   0      0"
            ]
          },
          "metadata": {
            "tags": []
          },
          "execution_count": 7
        }
      ]
    },
    {
      "cell_type": "markdown",
      "metadata": {
        "id": "aRB8mThbBzJg"
      },
      "source": [
        "#TFIDF"
      ]
    },
    {
      "cell_type": "code",
      "metadata": {
        "colab": {
          "base_uri": "https://localhost:8080/",
          "height": 138
        },
        "id": "QBhuFuBnBk7-",
        "outputId": "9463bae2-f33a-440a-e7f7-f9450976c744"
      },
      "source": [
        "import pandas as pd\r\n",
        "from sklearn.feature_extraction.text import TfidfVectorizer\r\n",
        "import re\r\n",
        "\r\n",
        "vect = TfidfVectorizer()\r\n",
        "vect.fit(sample)\r\n",
        "simple_train_dtm = vect.transform(sample)\r\n",
        "pd.DataFrame(simple_train_dtm.toarray(), columns=vect.get_feature_names())"
      ],
      "execution_count": null,
      "outputs": [
        {
          "output_type": "execute_result",
          "data": {
            "text/html": [
              "<div>\n",
              "<style scoped>\n",
              "    .dataframe tbody tr th:only-of-type {\n",
              "        vertical-align: middle;\n",
              "    }\n",
              "\n",
              "    .dataframe tbody tr th {\n",
              "        vertical-align: top;\n",
              "    }\n",
              "\n",
              "    .dataframe thead th {\n",
              "        text-align: right;\n",
              "    }\n",
              "</style>\n",
              "<table border=\"1\" class=\"dataframe\">\n",
              "  <thead>\n",
              "    <tr style=\"text-align: right;\">\n",
              "      <th></th>\n",
              "      <th>است</th>\n",
              "      <th>تهران</th>\n",
              "      <th>در</th>\n",
              "      <th>رفتم</th>\n",
              "      <th>زندگی</th>\n",
              "      <th>زیبا</th>\n",
              "      <th>من</th>\n",
              "      <th>میکنم</th>\n",
              "    </tr>\n",
              "  </thead>\n",
              "  <tbody>\n",
              "    <tr>\n",
              "      <th>0</th>\n",
              "      <td>0.000000</td>\n",
              "      <td>0.425441</td>\n",
              "      <td>0.000000</td>\n",
              "      <td>0.720333</td>\n",
              "      <td>0.000000</td>\n",
              "      <td>0.000000</td>\n",
              "      <td>0.547832</td>\n",
              "      <td>0.000000</td>\n",
              "    </tr>\n",
              "    <tr>\n",
              "      <th>1</th>\n",
              "      <td>0.000000</td>\n",
              "      <td>0.298032</td>\n",
              "      <td>0.504611</td>\n",
              "      <td>0.000000</td>\n",
              "      <td>0.504611</td>\n",
              "      <td>0.000000</td>\n",
              "      <td>0.383770</td>\n",
              "      <td>0.504611</td>\n",
              "    </tr>\n",
              "    <tr>\n",
              "      <th>2</th>\n",
              "      <td>0.652491</td>\n",
              "      <td>0.385372</td>\n",
              "      <td>0.000000</td>\n",
              "      <td>0.000000</td>\n",
              "      <td>0.000000</td>\n",
              "      <td>0.652491</td>\n",
              "      <td>0.000000</td>\n",
              "      <td>0.000000</td>\n",
              "    </tr>\n",
              "  </tbody>\n",
              "</table>\n",
              "</div>"
            ],
            "text/plain": [
              "        است     تهران        در  ...      زیبا        من     میکنم\n",
              "0  0.000000  0.425441  0.000000  ...  0.000000  0.547832  0.000000\n",
              "1  0.000000  0.298032  0.504611  ...  0.000000  0.383770  0.504611\n",
              "2  0.652491  0.385372  0.000000  ...  0.652491  0.000000  0.000000\n",
              "\n",
              "[3 rows x 8 columns]"
            ]
          },
          "metadata": {
            "tags": []
          },
          "execution_count": 8
        }
      ]
    },
    {
      "cell_type": "markdown",
      "metadata": {
        "id": "QH0CbnFjz6Ze"
      },
      "source": [
        "#Word2vec"
      ]
    },
    {
      "cell_type": "code",
      "metadata": {
        "id": "oQNRLtCl0lll"
      },
      "source": [
        "\r\n",
        "import numpy as np\r\n",
        "\r\n",
        "\r\n",
        "from gensim.models.phrases import Phrases, Phraser\r\n"
      ],
      "execution_count": null,
      "outputs": []
    },
    {
      "cell_type": "code",
      "metadata": {
        "colab": {
          "base_uri": "https://localhost:8080/",
          "height": 198
        },
        "id": "rrF459QF0Dka",
        "outputId": "5d0b3b04-ec53-4dc2-cafd-c7495d988b8a"
      },
      "source": [
        "df = pd.read_csv('simpsons_dataset.csv')\r\n",
        "df.head()"
      ],
      "execution_count": null,
      "outputs": [
        {
          "output_type": "execute_result",
          "data": {
            "text/html": [
              "<div>\n",
              "<style scoped>\n",
              "    .dataframe tbody tr th:only-of-type {\n",
              "        vertical-align: middle;\n",
              "    }\n",
              "\n",
              "    .dataframe tbody tr th {\n",
              "        vertical-align: top;\n",
              "    }\n",
              "\n",
              "    .dataframe thead th {\n",
              "        text-align: right;\n",
              "    }\n",
              "</style>\n",
              "<table border=\"1\" class=\"dataframe\">\n",
              "  <thead>\n",
              "    <tr style=\"text-align: right;\">\n",
              "      <th></th>\n",
              "      <th>raw_character_text</th>\n",
              "      <th>spoken_words</th>\n",
              "    </tr>\n",
              "  </thead>\n",
              "  <tbody>\n",
              "    <tr>\n",
              "      <th>0</th>\n",
              "      <td>Miss Hoover</td>\n",
              "      <td>No, actually, it was a little of both. Sometim...</td>\n",
              "    </tr>\n",
              "    <tr>\n",
              "      <th>1</th>\n",
              "      <td>Lisa Simpson</td>\n",
              "      <td>Where's Mr. Bergstrom?</td>\n",
              "    </tr>\n",
              "    <tr>\n",
              "      <th>2</th>\n",
              "      <td>Miss Hoover</td>\n",
              "      <td>I don't know. Although I'd sure like to talk t...</td>\n",
              "    </tr>\n",
              "    <tr>\n",
              "      <th>3</th>\n",
              "      <td>Lisa Simpson</td>\n",
              "      <td>That life is worth living.</td>\n",
              "    </tr>\n",
              "    <tr>\n",
              "      <th>4</th>\n",
              "      <td>Edna Krabappel-Flanders</td>\n",
              "      <td>The polls will be open from now until the end ...</td>\n",
              "    </tr>\n",
              "  </tbody>\n",
              "</table>\n",
              "</div>"
            ],
            "text/plain": [
              "        raw_character_text                                       spoken_words\n",
              "0              Miss Hoover  No, actually, it was a little of both. Sometim...\n",
              "1             Lisa Simpson                             Where's Mr. Bergstrom?\n",
              "2              Miss Hoover  I don't know. Although I'd sure like to talk t...\n",
              "3             Lisa Simpson                         That life is worth living.\n",
              "4  Edna Krabappel-Flanders  The polls will be open from now until the end ..."
            ]
          },
          "metadata": {
            "tags": []
          },
          "execution_count": 10
        }
      ]
    },
    {
      "cell_type": "code",
      "metadata": {
        "colab": {
          "base_uri": "https://localhost:8080/"
        },
        "id": "qWiuyjWW0Ooe",
        "outputId": "8fb90dee-2680-4678-bdb9-6455cb5fb7f8"
      },
      "source": [
        "df.shape"
      ],
      "execution_count": null,
      "outputs": [
        {
          "output_type": "execute_result",
          "data": {
            "text/plain": [
              "(158314, 2)"
            ]
          },
          "metadata": {
            "tags": []
          },
          "execution_count": 11
        }
      ]
    },
    {
      "cell_type": "code",
      "metadata": {
        "colab": {
          "base_uri": "https://localhost:8080/"
        },
        "id": "1RXyZ_L60VjX",
        "outputId": "ab1354c1-078a-49c7-eeb5-7f01beba716b"
      },
      "source": [
        "df.isnull().sum()"
      ],
      "execution_count": null,
      "outputs": [
        {
          "output_type": "execute_result",
          "data": {
            "text/plain": [
              "raw_character_text    17814\n",
              "spoken_words          26459\n",
              "dtype: int64"
            ]
          },
          "metadata": {
            "tags": []
          },
          "execution_count": 12
        }
      ]
    },
    {
      "cell_type": "code",
      "metadata": {
        "colab": {
          "base_uri": "https://localhost:8080/"
        },
        "id": "D7E4NnTi0aOb",
        "outputId": "b007f6f9-9ad1-4975-8a2e-1058ede91a4b"
      },
      "source": [
        "df = df.dropna().reset_index(drop=True)\r\n",
        "df.isnull().sum()"
      ],
      "execution_count": null,
      "outputs": [
        {
          "output_type": "execute_result",
          "data": {
            "text/plain": [
              "raw_character_text    0\n",
              "spoken_words          0\n",
              "dtype: int64"
            ]
          },
          "metadata": {
            "tags": []
          },
          "execution_count": 13
        }
      ]
    },
    {
      "cell_type": "markdown",
      "metadata": {
        "id": "hhoi_BwqW-el"
      },
      "source": [
        "Cleaning"
      ]
    },
    {
      "cell_type": "code",
      "metadata": {
        "id": "o4ejnBIYJ1l0"
      },
      "source": [
        "import spacy\r\n",
        "nlp = spacy.load('en', disable=['ner', 'parser']) # disabling Named Entity Recognition for speed\r\n",
        "\r\n",
        "def cleaning(doc):\r\n",
        "    txt = [token.lemma_ for token in doc if not token.is_stop]\r\n",
        "    if len(txt) > 2:\r\n",
        "        return ' '.join(txt)"
      ],
      "execution_count": null,
      "outputs": []
    },
    {
      "cell_type": "code",
      "metadata": {
        "id": "7v46cYLgQ8au"
      },
      "source": [
        "brief_cleaning = (re.sub(\"[^A-Za-z']+\", ' ', str(row)).lower() for row in df['spoken_words'])"
      ],
      "execution_count": null,
      "outputs": []
    },
    {
      "cell_type": "code",
      "metadata": {
        "colab": {
          "base_uri": "https://localhost:8080/"
        },
        "id": "VLRMqwPfQvgq",
        "outputId": "d4175dd8-a407-4827-8f1f-40dedbb366f0"
      },
      "source": [
        "from  time import time\r\n",
        "import re\r\n",
        "t = time()\r\n",
        "\r\n",
        "txt = [cleaning(doc) for doc in nlp.pipe(brief_cleaning, batch_size=5000, n_threads=-1)]\r\n",
        "\r\n",
        "print('Time to clean up everything: {} mins'.format(round((time() - t) / 60, 2)))"
      ],
      "execution_count": null,
      "outputs": [
        {
          "output_type": "stream",
          "text": [
            "Time to clean up everything: 1.04 mins\n"
          ],
          "name": "stdout"
        }
      ]
    },
    {
      "cell_type": "code",
      "metadata": {
        "colab": {
          "base_uri": "https://localhost:8080/"
        },
        "id": "_T6Fg6asKXG-",
        "outputId": "79f4ec92-3ac5-4e44-e3a0-1fe8dd514d81"
      },
      "source": [
        "df_clean = pd.DataFrame({'clean': txt})\r\n",
        "df_clean = df_clean.dropna().drop_duplicates()\r\n",
        "df_clean.shape"
      ],
      "execution_count": null,
      "outputs": [
        {
          "output_type": "execute_result",
          "data": {
            "text/plain": [
              "(85964, 1)"
            ]
          },
          "metadata": {
            "tags": []
          },
          "execution_count": 17
        }
      ]
    },
    {
      "cell_type": "code",
      "metadata": {
        "colab": {
          "base_uri": "https://localhost:8080/",
          "height": 198
        },
        "id": "I8fg1u_cK5xk",
        "outputId": "6120ec51-3827-48d6-e192-912b3e06c5ba"
      },
      "source": [
        "df_clean.head()"
      ],
      "execution_count": null,
      "outputs": [
        {
          "output_type": "execute_result",
          "data": {
            "text/html": [
              "<div>\n",
              "<style scoped>\n",
              "    .dataframe tbody tr th:only-of-type {\n",
              "        vertical-align: middle;\n",
              "    }\n",
              "\n",
              "    .dataframe tbody tr th {\n",
              "        vertical-align: top;\n",
              "    }\n",
              "\n",
              "    .dataframe thead th {\n",
              "        text-align: right;\n",
              "    }\n",
              "</style>\n",
              "<table border=\"1\" class=\"dataframe\">\n",
              "  <thead>\n",
              "    <tr style=\"text-align: right;\">\n",
              "      <th></th>\n",
              "      <th>clean</th>\n",
              "    </tr>\n",
              "  </thead>\n",
              "  <tbody>\n",
              "    <tr>\n",
              "      <th>0</th>\n",
              "      <td>actually little disease magazine news show nat...</td>\n",
              "    </tr>\n",
              "    <tr>\n",
              "      <th>2</th>\n",
              "      <td>know sure like talk touch lesson plan teach</td>\n",
              "    </tr>\n",
              "    <tr>\n",
              "      <th>3</th>\n",
              "      <td>life worth live</td>\n",
              "    </tr>\n",
              "    <tr>\n",
              "      <th>4</th>\n",
              "      <td>poll open end recess case decide thought final...</td>\n",
              "    </tr>\n",
              "    <tr>\n",
              "      <th>7</th>\n",
              "      <td>victory party slide</td>\n",
              "    </tr>\n",
              "  </tbody>\n",
              "</table>\n",
              "</div>"
            ],
            "text/plain": [
              "                                               clean\n",
              "0  actually little disease magazine news show nat...\n",
              "2        know sure like talk touch lesson plan teach\n",
              "3                                    life worth live\n",
              "4  poll open end recess case decide thought final...\n",
              "7                                victory party slide"
            ]
          },
          "metadata": {
            "tags": []
          },
          "execution_count": 18
        }
      ]
    },
    {
      "cell_type": "code",
      "metadata": {
        "colab": {
          "base_uri": "https://localhost:8080/"
        },
        "id": "7KAMb_deKvls",
        "outputId": "0eaa6bbe-fcc8-4be0-cd5b-b41e917d8617"
      },
      "source": [
        "from gensim.models.phrases import Phrases, Phraser\r\n",
        "sent = [row.split() for row in df_clean['clean']]\r\n",
        "phrases = Phrases(sent, min_count=30, progress_per=10000)\r\n",
        "sentences = phrases[sent]\r\n"
      ],
      "execution_count": null,
      "outputs": [
        {
          "output_type": "stream",
          "text": [
            "/usr/local/lib/python3.7/dist-packages/gensim/models/phrases.py:598: UserWarning: For a faster implementation, use the gensim.models.phrases.Phraser class\n",
            "  warnings.warn(\"For a faster implementation, use the gensim.models.phrases.Phraser class\")\n"
          ],
          "name": "stderr"
        }
      ]
    },
    {
      "cell_type": "code",
      "metadata": {
        "colab": {
          "base_uri": "https://localhost:8080/"
        },
        "id": "I7EA_hZMLMsx",
        "outputId": "855b4e99-8e10-4aa1-c90f-97bc28f3ce55"
      },
      "source": [
        "from collections import defaultdict\r\n",
        "word_freq = defaultdict(int)\r\n",
        "for sent in sentences:\r\n",
        "    for i in sent:\r\n",
        "        word_freq[i] += 1\r\n",
        "len(word_freq)"
      ],
      "execution_count": null,
      "outputs": [
        {
          "output_type": "stream",
          "text": [
            "/usr/local/lib/python3.7/dist-packages/gensim/models/phrases.py:598: UserWarning: For a faster implementation, use the gensim.models.phrases.Phraser class\n",
            "  warnings.warn(\"For a faster implementation, use the gensim.models.phrases.Phraser class\")\n"
          ],
          "name": "stderr"
        },
        {
          "output_type": "execute_result",
          "data": {
            "text/plain": [
              "30178"
            ]
          },
          "metadata": {
            "tags": []
          },
          "execution_count": 20
        }
      ]
    },
    {
      "cell_type": "code",
      "metadata": {
        "colab": {
          "base_uri": "https://localhost:8080/"
        },
        "id": "mrWYXwpFLhw4",
        "outputId": "ea74091c-8f99-4402-eba1-c86feb1aca4a"
      },
      "source": [
        "sorted(word_freq, key=word_freq.get, reverse=True)[:5]"
      ],
      "execution_count": null,
      "outputs": [
        {
          "output_type": "execute_result",
          "data": {
            "text/plain": [
              "['oh', 'like', 'know', 'get', 'hey']"
            ]
          },
          "metadata": {
            "tags": []
          },
          "execution_count": 21
        }
      ]
    },
    {
      "cell_type": "code",
      "metadata": {
        "id": "l5rAlAeKDyzb"
      },
      "source": [
        "\r\n",
        "\r\n",
        "from gensim.models import Word2Vec"
      ],
      "execution_count": null,
      "outputs": []
    },
    {
      "cell_type": "code",
      "metadata": {
        "id": "gWtvgq6RD-Ho"
      },
      "source": [
        "w2v_model = Word2Vec(min_count=20,\r\n",
        "                     window=2,\r\n",
        "                     size=300,\r\n",
        "                     sample=6e-5, \r\n",
        "                     alpha=0.03, \r\n",
        "                     min_alpha=0.0007, \r\n",
        "                     negative=20,\r\n",
        "                     workers=1)"
      ],
      "execution_count": null,
      "outputs": []
    },
    {
      "cell_type": "code",
      "metadata": {
        "colab": {
          "base_uri": "https://localhost:8080/"
        },
        "id": "wLNLMOO7EGeq",
        "outputId": "a10c44ae-8021-4fc1-c4a3-832acae14b7d"
      },
      "source": [
        "\r\n",
        "\r\n",
        "w2v_model.build_vocab(sentences, progress_per=10000)\r\n",
        "\r\n",
        "print('Time to build vocab: {} mins'.format(round((time() - t) / 60, 2)))"
      ],
      "execution_count": null,
      "outputs": [
        {
          "output_type": "stream",
          "text": [
            "/usr/local/lib/python3.7/dist-packages/gensim/models/phrases.py:598: UserWarning: For a faster implementation, use the gensim.models.phrases.Phraser class\n",
            "  warnings.warn(\"For a faster implementation, use the gensim.models.phrases.Phraser class\")\n"
          ],
          "name": "stderr"
        },
        {
          "output_type": "stream",
          "text": [
            "Time to build vocab: 1.17 mins\n"
          ],
          "name": "stdout"
        }
      ]
    },
    {
      "cell_type": "code",
      "metadata": {
        "id": "sEq3LDRaEc3Z"
      },
      "source": [
        "w2v_model.init_sims(replace=True)"
      ],
      "execution_count": null,
      "outputs": []
    },
    {
      "cell_type": "code",
      "metadata": {
        "colab": {
          "base_uri": "https://localhost:8080/"
        },
        "id": "JfaynVVgEeRN",
        "outputId": "ac16a2c6-0bc0-4161-9b76-8c1c5cce053f"
      },
      "source": [
        "w2v_model.wv.most_similar(positive=[\"homer\"])"
      ],
      "execution_count": null,
      "outputs": [
        {
          "output_type": "execute_result",
          "data": {
            "text/plain": [
              "[('campaign', 0.19149626791477203),\n",
              " ('sweater', 0.1838568150997162),\n",
              " ('declare', 0.1829453408718109),\n",
              " ('responsibility', 0.182439923286438),\n",
              " ('yogurt', 0.1770438551902771),\n",
              " ('century', 0.1753128468990326),\n",
              " ('sector', 0.17387714982032776),\n",
              " ('lou', 0.17337660491466522),\n",
              " ('fourth', 0.17247435450553894),\n",
              " ('service', 0.1671232134103775)]"
            ]
          },
          "metadata": {
            "tags": []
          },
          "execution_count": 44
        }
      ]
    },
    {
      "cell_type": "code",
      "metadata": {
        "colab": {
          "base_uri": "https://localhost:8080/"
        },
        "id": "SdyS8R-IMgiz",
        "outputId": "0e7e7b45-5cbc-4762-b496-2752f63219bf"
      },
      "source": [
        "w2v_model.wv.most_similar(positive=[\"marge\"])"
      ],
      "execution_count": null,
      "outputs": [
        {
          "output_type": "execute_result",
          "data": {
            "text/plain": [
              "[('opera', 0.23657609522342682),\n",
              " ('big', 0.210626482963562),\n",
              " ('chef', 0.2011110484600067),\n",
              " ('roast', 0.20064318180084229),\n",
              " ('bum', 0.1937980353832245),\n",
              " ('prime', 0.18154343962669373),\n",
              " ('japan', 0.18016010522842407),\n",
              " ('golf', 0.17836618423461914),\n",
              " ('effort', 0.17650018632411957),\n",
              " ('proposition', 0.1667303442955017)]"
            ]
          },
          "metadata": {
            "tags": []
          },
          "execution_count": 27
        }
      ]
    },
    {
      "cell_type": "code",
      "metadata": {
        "colab": {
          "base_uri": "https://localhost:8080/"
        },
        "id": "wf8VIoSeMwQz",
        "outputId": "ab31f10f-12a6-429c-b0a3-3934b93cddeb"
      },
      "source": [
        "w2v_model.wv.most_similar(positive=[\"bart\"])"
      ],
      "execution_count": null,
      "outputs": [
        {
          "output_type": "execute_result",
          "data": {
            "text/plain": [
              "[('sponsor', 0.2057056427001953),\n",
              " ('snowball', 0.18019697070121765),\n",
              " ('point', 0.1724226474761963),\n",
              " ('el', 0.1721421480178833),\n",
              " ('blind', 0.16930237412452698),\n",
              " ('eyeball', 0.16849848628044128),\n",
              " ('tunnel', 0.16637375950813293),\n",
              " ('technology', 0.1656838208436966),\n",
              " ('whee', 0.16248661279678345),\n",
              " ('tap', 0.1621415764093399)]"
            ]
          },
          "metadata": {
            "tags": []
          },
          "execution_count": 28
        }
      ]
    },
    {
      "cell_type": "markdown",
      "metadata": {
        "id": "YlbY119FM5To"
      },
      "source": [
        "#Elmo"
      ]
    },
    {
      "cell_type": "code",
      "metadata": {
        "colab": {
          "base_uri": "https://localhost:8080/"
        },
        "id": "WOuHFfbQQAj7",
        "outputId": "d8c3f473-84b0-4fd3-c29f-31fa4ded2058"
      },
      "source": [
        "!pip install tensorflow_hub==0.6\r\n",
        "%tensorflow_version 1.5x"
      ],
      "execution_count": null,
      "outputs": [
        {
          "output_type": "stream",
          "text": [
            "Requirement already satisfied: tensorflow_hub==0.6 in /usr/local/lib/python3.7/dist-packages (0.6.0)\n",
            "Requirement already satisfied: six>=1.10.0 in /usr/local/lib/python3.7/dist-packages (from tensorflow_hub==0.6) (1.15.0)\n",
            "Requirement already satisfied: protobuf>=3.4.0 in /usr/local/lib/python3.7/dist-packages (from tensorflow_hub==0.6) (3.12.4)\n",
            "Requirement already satisfied: numpy>=1.12.0 in /usr/local/lib/python3.7/dist-packages (from tensorflow_hub==0.6) (1.19.5)\n",
            "Requirement already satisfied: setuptools in /usr/local/lib/python3.7/dist-packages (from protobuf>=3.4.0->tensorflow_hub==0.6) (54.0.0)\n",
            "`%tensorflow_version` only switches the major version: 1.x or 2.x.\n",
            "You set: `1.5x`. This will be interpreted as: `1.x`.\n",
            "\n",
            "\n",
            "TensorFlow 1.x selected.\n"
          ],
          "name": "stdout"
        }
      ]
    },
    {
      "cell_type": "code",
      "metadata": {
        "id": "Jp9OE4gmpmiJ"
      },
      "source": [
        "import tensorflow as tf\r\n",
        "import tensorflow_hub as hub"
      ],
      "execution_count": null,
      "outputs": []
    },
    {
      "cell_type": "code",
      "metadata": {
        "colab": {
          "base_uri": "https://localhost:8080/"
        },
        "id": "yn1X2agkSmA2",
        "outputId": "431c2fe2-e25c-4b9d-bcd7-9115e99a3de2"
      },
      "source": [
        "samples = ['i play tennis', ' we listen to conference', 'we are great']\r\n",
        "\r\n",
        "\r\n",
        "elmo = hub.Module(\"https://tfhub.dev/google/elmo/2\")\r\n",
        "embeddings = elmo(\r\n",
        "   samples,\r\n",
        "    signature=\"default\",\r\n",
        "    as_dict=True)[\"elmo\"]"
      ],
      "execution_count": null,
      "outputs": [
        {
          "output_type": "stream",
          "text": [
            "INFO:tensorflow:Saver not created because there are no variables in the graph to restore\n"
          ],
          "name": "stdout"
        },
        {
          "output_type": "stream",
          "text": [
            "INFO:tensorflow:Saver not created because there are no variables in the graph to restore\n"
          ],
          "name": "stderr"
        }
      ]
    },
    {
      "cell_type": "code",
      "metadata": {
        "colab": {
          "base_uri": "https://localhost:8080/"
        },
        "id": "2-mQEUynTgEO",
        "outputId": "c72ea6c8-b60e-4f4f-f73f-1ad20ab4bd1c"
      },
      "source": [
        "embeddings"
      ],
      "execution_count": null,
      "outputs": [
        {
          "output_type": "execute_result",
          "data": {
            "text/plain": [
              "<tf.Tensor 'module_apply_default/aggregation/mul_3:0' shape=(3, 4, 1024) dtype=float32>"
            ]
          },
          "metadata": {
            "tags": []
          },
          "execution_count": 32
        }
      ]
    },
    {
      "cell_type": "markdown",
      "metadata": {
        "id": "F3zw_2nrjorC"
      },
      "source": [
        "#Glove"
      ]
    },
    {
      "cell_type": "markdown",
      "metadata": {
        "id": "vdUNfg0v5NGW"
      },
      "source": [
        "![image.png](data:image/png;base64,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)"
      ]
    },
    {
      "cell_type": "markdown",
      "metadata": {
        "id": "2W7Bgp724xNc"
      },
      "source": [
        "![image.png](data:image/png;base64,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)"
      ]
    },
    {
      "cell_type": "code",
      "metadata": {
        "colab": {
          "base_uri": "https://localhost:8080/"
        },
        "id": "sEXv077iq5Jt",
        "outputId": "7c2f75a8-9d61-472d-ec6b-0fb9f833b930"
      },
      "source": [
        "!unzip glove.6B.100d.txt.zip"
      ],
      "execution_count": null,
      "outputs": [
        {
          "output_type": "stream",
          "text": [
            "Archive:  glove.6B.100d.txt.zip\n",
            "replace glove.6B.100d.txt? [y]es, [n]o, [A]ll, [N]one, [r]ename: N\n"
          ],
          "name": "stdout"
        }
      ]
    },
    {
      "cell_type": "code",
      "metadata": {
        "id": "vGN4Cn-KIy6t"
      },
      "source": [
        "import numpy as np\r\n",
        "from scipy import spatial\r\n",
        "import matplotlib.pyplot as plt\r\n",
        "from sklearn.manifold import TSNE"
      ],
      "execution_count": null,
      "outputs": []
    },
    {
      "cell_type": "code",
      "metadata": {
        "id": "_w_WgwqnI1Wp"
      },
      "source": [
        "embeddings_dict = {}\r\n",
        "with open(\"glove.6B.100d.txt\", 'r') as f:\r\n",
        "    for line in f:\r\n",
        "        values = line.split()\r\n",
        "        word = values[0]\r\n",
        "        vector = np.asarray(values[1:], \"float32\")\r\n",
        "        embeddings_dict[word] = vector"
      ],
      "execution_count": null,
      "outputs": []
    },
    {
      "cell_type": "code",
      "metadata": {
        "id": "Fj5mq8tXI1Sh"
      },
      "source": [
        "def find_closest_embeddings(embedding):\r\n",
        "    return sorted(embeddings_dict.keys(), key=lambda word: spatial.distance.euclidean(embeddings_dict[word], embedding))"
      ],
      "execution_count": null,
      "outputs": []
    },
    {
      "cell_type": "code",
      "metadata": {
        "colab": {
          "base_uri": "https://localhost:8080/"
        },
        "id": "k3Ct82CDJtJ5",
        "outputId": "9fcf9f11-e6c6-4b92-cd10-a97910dbc491"
      },
      "source": [
        "find_closest_embeddings(embeddings_dict[\"king\"])[:5]"
      ],
      "execution_count": null,
      "outputs": [
        {
          "output_type": "execute_result",
          "data": {
            "text/plain": [
              "['king', 'prince', 'queen', 'monarch', 'brother']"
            ]
          },
          "metadata": {
            "tags": []
          },
          "execution_count": 37
        }
      ]
    },
    {
      "cell_type": "code",
      "metadata": {
        "colab": {
          "base_uri": "https://localhost:8080/",
          "height": 265
        },
        "id": "hGILwTDVI06a",
        "outputId": "5b2e2453-060d-4c38-a6ff-7c08851746c5"
      },
      "source": [
        "tsne = TSNE(n_components=2, random_state=0)\r\n",
        "words = ['sister', 'brother', 'man', 'woman', 'uncle', 'aunt', 'teacher', 'boy', 'girl', 'son', 'daughter',\r\n",
        "         'husband', 'wife']\r\n",
        "\r\n",
        "vectors = [embeddings_dict[word] for word in words]\r\n",
        "Y = tsne.fit_transform(vectors[:1000])\r\n",
        "plt.scatter(Y[:, 0], Y[:, 1])\r\n",
        "\r\n",
        "for label, x, y in zip(words, Y[:, 0], Y[:, 1]):\r\n",
        "    plt.annotate(label, xy=(x, y), xytext=(0, 0), textcoords=\"offset points\")\r\n",
        "plt.show()"
      ],
      "execution_count": null,
      "outputs": [
        {
          "output_type": "display_data",
          "data": {
            "image/png": "[encoded data removed]",
            "text/plain": [
              "<Figure size 432x288 with 1 Axes>"
            ]
          },
          "metadata": {
            "tags": [],
            "needs_background": "light"
          }
        }
      ]
    },
    {
      "cell_type": "markdown",
      "metadata": {
        "id": "ccQ3vW7ws_FX"
      },
      "source": [
        "#links to lookup \r\n",
        "[glove](https://nlp.stanford.edu/projects/glove/)\r\n",
        "\r\n",
        "[word2vec](https://radimrehurek.com/gensim/models/word2vec.html)\r\n",
        "\r\n"
      ]
    }
  ]
}